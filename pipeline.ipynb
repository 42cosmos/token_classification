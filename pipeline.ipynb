{
 "cells": [
  {
   "cell_type": "code",
   "execution_count": 1,
   "id": "7de945fb",
   "metadata": {},
   "outputs": [],
   "source": [
    "import os\n",
    "import pandas as pd\n",
    "\n",
    "import torch\n",
    "from torch import nn\n",
    "from transformers import BertForTokenClassification"
   ]
  },
  {
   "cell_type": "code",
   "execution_count": 2,
   "id": "bbd948cd",
   "metadata": {},
   "outputs": [],
   "source": [
    "from datasets import load_dataset\n",
    "from transformers import pipeline, AutoTokenizer"
   ]
  },
  {
   "cell_type": "code",
   "execution_count": 3,
   "id": "632df196",
   "metadata": {},
   "outputs": [
    {
     "name": "stderr",
     "output_type": "stream",
     "text": [
      "Found cached dataset klue (/Users/parkeunbin/.cache/huggingface/datasets/klue/ner/1.0.0/e0fc3bc3de3eb03be2c92d72fd04a60ecc71903f821619cb28ca0e1e29e4233e)\n"
     ]
    }
   ],
   "source": [
    "klue = load_dataset(\"klue\", \"ner\", split=\"train\")"
   ]
  },
  {
   "cell_type": "code",
   "execution_count": 7,
   "id": "caa827ef",
   "metadata": {},
   "outputs": [],
   "source": [
    "model_name = \"klue/bert-base\"\n",
    "tokenizer = AutoTokenizer.from_pretrained(model_name)\n",
    "\n",
    "model = BertForTokenClassification.from_pretrained(\"./model/model\")\n",
    "p = pipeline(\"token-classification\", model=model, tokenizer=tokenizer)"
   ]
  },
  {
   "cell_type": "code",
   "execution_count": 11,
   "id": "c0d66e32",
   "metadata": {},
   "outputs": [],
   "source": [
    "test = '경찰은 또 성매매 알선 자금을 관리한 박씨의 딸(32)과 성매매 여성 김모(33)씨 등 16명을 같은 혐의로 불구속 입건했다.'\n",
    "# test = \"하지만 이영화에는 감히 별 5개를 주고싶다\""
   ]
  },
  {
   "cell_type": "code",
   "execution_count": 12,
   "id": "28ac8cca",
   "metadata": {},
   "outputs": [
    {
     "data": {
      "text/plain": [
       "[{'entity': 'B-PS',\n",
       "  'score': 0.99731004,\n",
       "  'index': 10,\n",
       "  'word': '박',\n",
       "  'start': 21,\n",
       "  'end': 22},\n",
       " {'entity': 'B-QT',\n",
       "  'score': 0.9860001,\n",
       "  'index': 15,\n",
       "  'word': '32',\n",
       "  'start': 27,\n",
       "  'end': 29},\n",
       " {'entity': 'B-PS',\n",
       "  'score': 0.99655485,\n",
       "  'index': 20,\n",
       "  'word': '김',\n",
       "  'start': 39,\n",
       "  'end': 40},\n",
       " {'entity': 'B-QT',\n",
       "  'score': 0.9827323,\n",
       "  'index': 23,\n",
       "  'word': '33',\n",
       "  'start': 42,\n",
       "  'end': 44},\n",
       " {'entity': 'B-QT',\n",
       "  'score': 0.99677116,\n",
       "  'index': 27,\n",
       "  'word': '16',\n",
       "  'start': 49,\n",
       "  'end': 51},\n",
       " {'entity': 'I-QT',\n",
       "  'score': 0.99946636,\n",
       "  'index': 28,\n",
       "  'word': '##명',\n",
       "  'start': 51,\n",
       "  'end': 52}]"
      ]
     },
     "execution_count": 12,
     "metadata": {},
     "output_type": "execute_result"
    }
   ],
   "source": [
    "# 사람(PS), 위치(LC), 기관(OG), 날짜(DT), 시간(TI), 수량(QT)\n",
    "p(test)"
   ]
  },
  {
   "cell_type": "code",
   "execution_count": null,
   "id": "b1c4db9c",
   "metadata": {},
   "outputs": [],
   "source": []
  }
 ],
 "metadata": {
  "kernelspec": {
   "display_name": "Python 3 (ipykernel)",
   "language": "python",
   "name": "python3"
  },
  "language_info": {
   "codemirror_mode": {
    "name": "ipython",
    "version": 3
   },
   "file_extension": ".py",
   "mimetype": "text/x-python",
   "name": "python",
   "nbconvert_exporter": "python",
   "pygments_lexer": "ipython3",
   "version": "3.8.13"
  }
 },
 "nbformat": 4,
 "nbformat_minor": 5
}
