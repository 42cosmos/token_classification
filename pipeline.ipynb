{
 "cells": [
  {
   "cell_type": "code",
   "execution_count": 1,
   "id": "7de945fb",
   "metadata": {},
   "outputs": [],
   "source": [
    "import os\n",
    "import pandas as pd\n",
    "\n",
    "import torch\n",
    "from torch import nn\n",
    "from transformers import BertForTokenClassification"
   ]
  },
  {
   "cell_type": "code",
   "execution_count": 69,
   "id": "bbd948cd",
   "metadata": {},
   "outputs": [],
   "source": [
    "from datasets import load_dataset\n",
    "from transformers import pipeline"
   ]
  },
  {
   "cell_type": "code",
   "execution_count": 70,
   "id": "632df196",
   "metadata": {},
   "outputs": [
    {
     "name": "stderr",
     "output_type": "stream",
     "text": [
      "Found cached dataset klue (/Users/parkeunbin/.cache/huggingface/datasets/klue/ner/1.0.0/e0fc3bc3de3eb03be2c92d72fd04a60ecc71903f821619cb28ca0e1e29e4233e)\n"
     ]
    }
   ],
   "source": [
    "klue = load_dataset(\"klue\", \"ner\", split=\"train\")"
   ]
  },
  {
   "cell_type": "code",
   "execution_count": null,
   "id": "caa827ef",
   "metadata": {},
   "outputs": [],
   "source": [
    "model_name = \"klue/bert-base\"\n",
    "tokenizer = AutoTokenizer.from_pretrained(model_name)\n",
    "\n",
    "model = BertForTokenClassification.from_pretrained(\"./model/model/\")\n",
    "p = pipeline(\"token-classification\", model=model, tokenizer=tokenizer)"
   ]
  },
  {
   "cell_type": "code",
   "execution_count": 72,
   "id": "c0d66e32",
   "metadata": {},
   "outputs": [],
   "source": [
    "# test = '경찰은 또 성매매 알선 자금을 관리한 박씨의 딸(32)과 성매매 여성 김모(33)씨 등 16명을 같은 혐의로 불구속 입건했다.'\n",
    "test = \"하지만 이영화에는 감히 별 5개를 주고싶다\""
   ]
  },
  {
   "cell_type": "code",
   "execution_count": 71,
   "id": "bd3cf546",
   "metadata": {},
   "outputs": [
    {
     "data": {
      "text/plain": [
       "'하지만 이영화에는 감히 별 <5개:QT>를 주고싶다'"
      ]
     },
     "execution_count": 71,
     "metadata": {},
     "output_type": "execute_result"
    }
   ],
   "source": [
    "klue[2][\"sentence\"]"
   ]
  },
  {
   "cell_type": "code",
   "execution_count": 73,
   "id": "28ac8cca",
   "metadata": {},
   "outputs": [
    {
     "data": {
      "text/plain": [
       "[{'entity': 'IT',\n",
       "  'score': 0.999278,\n",
       "  'index': 8,\n",
       "  'word': '5',\n",
       "  'start': 15,\n",
       "  'end': 16},\n",
       " {'entity': 'IT',\n",
       "  'score': 0.9983327,\n",
       "  'index': 9,\n",
       "  'word': '##개',\n",
       "  'start': 16,\n",
       "  'end': 17}]"
      ]
     },
     "execution_count": 73,
     "metadata": {},
     "output_type": "execute_result"
    }
   ],
   "source": [
    "# 사람(PS), 위치(LC), 기관(OG), 날짜(DT), 시간(TI), 수량(QT)\n",
    "p(test)"
   ]
  },
  {
   "cell_type": "code",
   "execution_count": null,
   "id": "b1c4db9c",
   "metadata": {},
   "outputs": [],
   "source": []
  }
 ],
 "metadata": {
  "kernelspec": {
   "display_name": "Python 3 (ipykernel)",
   "language": "python",
   "name": "python3"
  },
  "language_info": {
   "codemirror_mode": {
    "name": "ipython",
    "version": 3
   },
   "file_extension": ".py",
   "mimetype": "text/x-python",
   "name": "python",
   "nbconvert_exporter": "python",
   "pygments_lexer": "ipython3",
   "version": "3.8.13"
  }
 },
 "nbformat": 4,
 "nbformat_minor": 5
}
